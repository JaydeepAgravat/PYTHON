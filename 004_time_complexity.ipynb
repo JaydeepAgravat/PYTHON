{
  "nbformat": 4,
  "nbformat_minor": 0,
  "metadata": {
    "colab": {
      "provenance": []
    },
    "kernelspec": {
      "name": "python3",
      "display_name": "Python 3"
    },
    "language_info": {
      "name": "python"
    }
  },
  "cells": [
    {
      "cell_type": "markdown",
      "source": [
        "# Time Complexity"
      ],
      "metadata": {
        "id": "JzEplOzpMNcT"
      }
    },
    {
      "cell_type": "markdown",
      "source": [
        "- What is efficiency in programming?\n",
        "- Why efficiency is important?\n",
        "- Types of efficiency\n",
        "- Space and Time Efficiency\n",
        "- Techniques to measure time efficiency:\n",
        "  1. Measuring time to execute\n",
        "  2. Counting operations involved\n",
        "  3. Abstract notion of order of growth\n",
        "- Types of orders of growth\n",
        "  1. constant\n",
        "  2. linear\n",
        "  3. quadratic\n",
        "  4. logarithmic\n",
        "  5. nlogn\n",
        "  6. exponential\n",
        "- Complexity Growth\n",
        "  - O(1)\n",
        "  - O(log(n))\n",
        "  - O(n)\n",
        "  - O(nlog(n))\n",
        "  - O(n^2)\n",
        "  - O(2^n)\n",
        "  \n"
      ],
      "metadata": {
        "id": "oo5C3mPnMOpQ"
      }
    },
    {
      "cell_type": "code",
      "source": [
        "A = [1,2,3,4]\n",
        "B = [5,6,7,8]\n",
        "for i in A:\n",
        "  for j in B:\n",
        "    s = i+j\n",
        "# N^2"
      ],
      "metadata": {
        "id": "8DR6LXFi126j"
      },
      "execution_count": 1,
      "outputs": []
    },
    {
      "cell_type": "code",
      "source": [
        "A = [1,2,3,4]\n",
        "B = [5,6,7,8]\n",
        "\n",
        "for i in A:\n",
        "  for j in B:\n",
        "    for k in range(1000000):\n",
        "      p = i*j*k\n",
        "# N^2"
      ],
      "metadata": {
        "id": "12rGkf232Fla"
      },
      "execution_count": 2,
      "outputs": []
    },
    {
      "cell_type": "code",
      "source": [
        "L = [1,2,3,4,5]\n",
        "\n",
        "for i in range(0,len(L)//2):\n",
        "  other = len(L) - i -1\n",
        "  temp = L[i]\n",
        "  L[i] = L[other]\n",
        "  L[other] = temp\n",
        "\n",
        "print(L)\n",
        "\n",
        "# N"
      ],
      "metadata": {
        "colab": {
          "base_uri": "https://localhost:8080/"
        },
        "id": "tuUyS_c92-u2",
        "outputId": "4d6a3aed-5784-4eb9-99f3-56bc4d4f9907"
      },
      "execution_count": 3,
      "outputs": [
        {
          "output_type": "stream",
          "name": "stdout",
          "text": [
            "[5, 4, 3, 2, 1]\n"
          ]
        }
      ]
    },
    {
      "cell_type": "code",
      "source": [
        "n = 10\n",
        "k = 0;\n",
        "for i in range(n//2,n):\n",
        "  for j in range(2,n,pow(2,j)):\n",
        "        k = k + n / 2;\n",
        "\n",
        "print(k)\n",
        "\n",
        "# N * LOG(N)"
      ],
      "metadata": {
        "colab": {
          "base_uri": "https://localhost:8080/"
        },
        "id": "vw0XKpB-7mdy",
        "outputId": "1d025b93-bb64-4f09-c350-f8d6b3b78512"
      },
      "execution_count": 4,
      "outputs": [
        {
          "output_type": "stream",
          "name": "stdout",
          "text": [
            "35.0\n"
          ]
        }
      ]
    },
    {
      "cell_type": "code",
      "source": [
        "a = 10\n",
        "b = 3\n",
        "\n",
        "if b <= 0:\n",
        "  print(-1)\n",
        "div = a//b\n",
        "\n",
        "print(a-div-b)\n",
        "\n",
        "# 1"
      ],
      "metadata": {
        "colab": {
          "base_uri": "https://localhost:8080/"
        },
        "id": "BkTcJ7NO3PJF",
        "outputId": "436f41ac-3f05-4c9e-a4bf-6354f29ee500"
      },
      "execution_count": 5,
      "outputs": [
        {
          "output_type": "stream",
          "name": "stdout",
          "text": [
            "4\n"
          ]
        }
      ]
    },
    {
      "cell_type": "code",
      "source": [
        "n = 345\n",
        "\n",
        "sum = 0\n",
        "while n>0:\n",
        "  sum = sum + n%10\n",
        "  n = n // 10\n",
        "\n",
        "print(sum)\n",
        "\n",
        "# LOG(N)"
      ],
      "metadata": {
        "colab": {
          "base_uri": "https://localhost:8080/"
        },
        "id": "L7SO19UD33hw",
        "outputId": "a984e4d0-1d70-4264-c298-b959451e8c4d"
      },
      "execution_count": 6,
      "outputs": [
        {
          "output_type": "stream",
          "name": "stdout",
          "text": [
            "12\n"
          ]
        }
      ]
    },
    {
      "cell_type": "code",
      "source": [
        "def fib(n):\n",
        "  if n == 1 or n == 0:\n",
        "    return 1\n",
        "  else:\n",
        "    return fib(n-1) + fib(n-2)\n",
        "\n",
        "# 2^N"
      ],
      "metadata": {
        "id": "5y6iC_sC7Cnm"
      },
      "execution_count": 7,
      "outputs": []
    },
    {
      "cell_type": "code",
      "source": [
        "# Subset Algo\n",
        "# 2^N"
      ],
      "metadata": {
        "id": "HigXvR954r3F"
      },
      "execution_count": 8,
      "outputs": []
    },
    {
      "cell_type": "markdown",
      "source": [
        "           {3T(n-1) if n>0\n",
        "    T(n) = {1, otherwise\n",
        "\n",
        "    O(3^N)"
      ],
      "metadata": {
        "id": "V59AbfcF5FUm"
      }
    },
    {
      "cell_type": "markdown",
      "source": [
        "           {2T(n-1)-1 if n>0\n",
        "    T(n) = {1, otherwise\n",
        "\n",
        "    O(1)"
      ],
      "metadata": {
        "id": "fskRhpXk5dSn"
      }
    }
  ]
}