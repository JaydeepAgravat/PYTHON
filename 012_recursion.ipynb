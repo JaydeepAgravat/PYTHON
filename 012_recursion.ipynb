{
  "nbformat": 4,
  "nbformat_minor": 0,
  "metadata": {
    "colab": {
      "provenance": [],
      "toc_visible": true
    },
    "kernelspec": {
      "name": "python3",
      "display_name": "Python 3"
    },
    "language_info": {
      "name": "python"
    }
  },
  "cells": [
    {
      "cell_type": "markdown",
      "source": [
        "# Recursion"
      ],
      "metadata": {
        "id": "fFC54k9O9Y6i"
      }
    },
    {
      "cell_type": "markdown",
      "source": [
        "## a*b"
      ],
      "metadata": {
        "id": "_kWq2FqZ9bia"
      }
    },
    {
      "cell_type": "code",
      "execution_count": 1,
      "metadata": {
        "id": "2-xE7RrZ9LbW"
      },
      "outputs": [],
      "source": [
        "def multy(a, b):\n",
        "  if b==1:\n",
        "    return a\n",
        "  return a+multy(a, b-1)"
      ]
    },
    {
      "cell_type": "code",
      "source": [
        "multy(2, 3)"
      ],
      "metadata": {
        "colab": {
          "base_uri": "https://localhost:8080/"
        },
        "id": "Godkv7_m9wIV",
        "outputId": "1a5f6ac4-372c-41bb-e09f-0dc51a2b3cc3"
      },
      "execution_count": 2,
      "outputs": [
        {
          "output_type": "execute_result",
          "data": {
            "text/plain": [
              "6"
            ]
          },
          "metadata": {},
          "execution_count": 2
        }
      ]
    },
    {
      "cell_type": "markdown",
      "source": [
        "## n!"
      ],
      "metadata": {
        "id": "DLCpuTgr-DHZ"
      }
    },
    {
      "cell_type": "code",
      "source": [
        "def fact(n):\n",
        "  if n==0 or n==1:\n",
        "    return 1\n",
        "  return n*fact(n-1)"
      ],
      "metadata": {
        "id": "QnwkJa2N9xci"
      },
      "execution_count": 3,
      "outputs": []
    },
    {
      "cell_type": "code",
      "source": [
        "fact(5)"
      ],
      "metadata": {
        "colab": {
          "base_uri": "https://localhost:8080/"
        },
        "id": "Xu9k73xr-LGV",
        "outputId": "39c7f3e5-06c5-4b37-dbfd-de573956ab51"
      },
      "execution_count": 4,
      "outputs": [
        {
          "output_type": "execute_result",
          "data": {
            "text/plain": [
              "120"
            ]
          },
          "metadata": {},
          "execution_count": 4
        }
      ]
    },
    {
      "cell_type": "markdown",
      "source": [
        "## Palindrome String"
      ],
      "metadata": {
        "id": "luwe8oL5-PRY"
      }
    },
    {
      "cell_type": "code",
      "source": [
        "def is_palindrome(string):\n",
        "  if len(string)<=1:\n",
        "    return True\n",
        "  if string[0]!=string[-1]:\n",
        "      return False\n",
        "  return is_palindrome(string[1:-1])"
      ],
      "metadata": {
        "id": "sMiuxN0o-MQ7"
      },
      "execution_count": 5,
      "outputs": []
    },
    {
      "cell_type": "code",
      "source": [
        "is_palindrome('madam')"
      ],
      "metadata": {
        "colab": {
          "base_uri": "https://localhost:8080/"
        },
        "id": "7FsTagPq-sWG",
        "outputId": "9ea32ece-31fc-4963-ff26-59160f9700ea"
      },
      "execution_count": 6,
      "outputs": [
        {
          "output_type": "execute_result",
          "data": {
            "text/plain": [
              "True"
            ]
          },
          "metadata": {},
          "execution_count": 6
        }
      ]
    },
    {
      "cell_type": "code",
      "source": [
        "is_palindrome('khhk')"
      ],
      "metadata": {
        "colab": {
          "base_uri": "https://localhost:8080/"
        },
        "id": "5o825u6a-xA_",
        "outputId": "cb2b3615-802f-4704-f672-f73dd3165835"
      },
      "execution_count": 7,
      "outputs": [
        {
          "output_type": "execute_result",
          "data": {
            "text/plain": [
              "True"
            ]
          },
          "metadata": {},
          "execution_count": 7
        }
      ]
    },
    {
      "cell_type": "markdown",
      "source": [
        "## Fibonacci Sequence\n"
      ],
      "metadata": {
        "id": "FWAh406IAepz"
      }
    },
    {
      "cell_type": "code",
      "source": [
        "def fib(n):\n",
        "    if n == 0:\n",
        "        return 0\n",
        "    elif n == 1:\n",
        "        return 1\n",
        "    else:\n",
        "        return fib(n - 1) + fib(n - 2)"
      ],
      "metadata": {
        "id": "7kMBZ7fvAN1m"
      },
      "execution_count": 8,
      "outputs": []
    },
    {
      "cell_type": "code",
      "source": [
        "fib(10)"
      ],
      "metadata": {
        "colab": {
          "base_uri": "https://localhost:8080/"
        },
        "id": "ijju0lKVAjfG",
        "outputId": "677635ca-05b7-48e0-8c44-be0fd16eb19d"
      },
      "execution_count": 9,
      "outputs": [
        {
          "output_type": "execute_result",
          "data": {
            "text/plain": [
              "55"
            ]
          },
          "metadata": {},
          "execution_count": 9
        }
      ]
    },
    {
      "cell_type": "markdown",
      "source": [
        "## Memoization"
      ],
      "metadata": {
        "id": "vZtjzYKICMrm"
      }
    },
    {
      "cell_type": "code",
      "source": [
        "# Using memoization to optimize Fibonacci calculation\n",
        "def fib(n, memo={}):\n",
        "    if n in memo:\n",
        "        return memo[n]\n",
        "    if n == 0 or n==1:\n",
        "        result = n\n",
        "    else:\n",
        "        result = fib(n - 1, memo) + fib(n - 2, memo)\n",
        "\n",
        "    memo[n] = result\n",
        "\n",
        "    print(memo)\n",
        "    return result"
      ],
      "metadata": {
        "id": "m9364nSFAnIg"
      },
      "execution_count": 10,
      "outputs": []
    },
    {
      "cell_type": "code",
      "source": [
        "fib(5)"
      ],
      "metadata": {
        "colab": {
          "base_uri": "https://localhost:8080/"
        },
        "id": "o7lAV4WMCSdq",
        "outputId": "16547cab-56d0-4815-80fa-57b26b97564c"
      },
      "execution_count": 11,
      "outputs": [
        {
          "output_type": "stream",
          "name": "stdout",
          "text": [
            "{1: 1}\n",
            "{1: 1, 0: 0}\n",
            "{1: 1, 0: 0, 2: 1}\n",
            "{1: 1, 0: 0, 2: 1, 3: 2}\n",
            "{1: 1, 0: 0, 2: 1, 3: 2, 4: 3}\n",
            "{1: 1, 0: 0, 2: 1, 3: 2, 4: 3, 5: 5}\n"
          ]
        },
        {
          "output_type": "execute_result",
          "data": {
            "text/plain": [
              "5"
            ]
          },
          "metadata": {},
          "execution_count": 11
        }
      ]
    },
    {
      "cell_type": "markdown",
      "source": [
        "## Power Set"
      ],
      "metadata": {
        "id": "dWcRn0NQEQr_"
      }
    },
    {
      "cell_type": "code",
      "source": [
        "def power_set(input, index=0, current_subset=[]):\n",
        "    if index == len(input):\n",
        "        print(current_subset)\n",
        "        return\n",
        "\n",
        "    # Include the current element\n",
        "    power_set(input, index + 1, current_subset + [input[index]])\n",
        "\n",
        "    # Exclude the current element\n",
        "    power_set(input, index + 1, current_subset)"
      ],
      "metadata": {
        "id": "SUDhAmhqD38E"
      },
      "execution_count": 12,
      "outputs": []
    },
    {
      "cell_type": "code",
      "source": [
        "power_set([1,2,3])"
      ],
      "metadata": {
        "colab": {
          "base_uri": "https://localhost:8080/"
        },
        "id": "CZn5TQIaE4Jv",
        "outputId": "79b30ef1-1de0-403f-ae1d-182bafbfa35a"
      },
      "execution_count": 13,
      "outputs": [
        {
          "output_type": "stream",
          "name": "stdout",
          "text": [
            "[1, 2, 3]\n",
            "[1, 2]\n",
            "[1, 3]\n",
            "[1]\n",
            "[2, 3]\n",
            "[2]\n",
            "[3]\n",
            "[]\n"
          ]
        }
      ]
    },
    {
      "cell_type": "code",
      "source": [
        "def generate_subsets(input_set):\n",
        "    n = len(input_set)\n",
        "    subsets = []\n",
        "\n",
        "    for i in range(2**n):\n",
        "        subset = []\n",
        "        for j in range(n):\n",
        "            if i & (1 << j):\n",
        "                subset.append(input_set[j])\n",
        "        subsets.append(subset)\n",
        "\n",
        "    return subsets"
      ],
      "metadata": {
        "id": "v9AT9edCFEqA"
      },
      "execution_count": 14,
      "outputs": []
    },
    {
      "cell_type": "code",
      "source": [
        "generate_subsets([1,2,3])"
      ],
      "metadata": {
        "colab": {
          "base_uri": "https://localhost:8080/"
        },
        "id": "8iplCLzgFk_7",
        "outputId": "db893739-e380-4d44-b3e2-41846d41c354"
      },
      "execution_count": 15,
      "outputs": [
        {
          "output_type": "execute_result",
          "data": {
            "text/plain": [
              "[[], [1], [2], [1, 2], [3], [1, 3], [2, 3], [1, 2, 3]]"
            ]
          },
          "metadata": {},
          "execution_count": 15
        }
      ]
    }
  ]
}