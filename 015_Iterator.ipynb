{
  "nbformat": 4,
  "nbformat_minor": 0,
  "metadata": {
    "colab": {
      "provenance": [],
      "toc_visible": true
    },
    "kernelspec": {
      "name": "python3",
      "display_name": "Python 3"
    },
    "language_info": {
      "name": "python"
    }
  },
  "cells": [
    {
      "cell_type": "markdown",
      "source": [
        "In Python, \"iteration,\" \"iterator,\" and \"iterable\" are terms used to describe concepts related to looping and traversal of data structures. These concepts are essential for understanding how loops and iteration work in Python."
      ],
      "metadata": {
        "id": "9PgZ57HQHOP7"
      }
    },
    {
      "cell_type": "markdown",
      "source": [
        "## Iterable"
      ],
      "metadata": {
        "id": "LCYtOm1THfy-"
      }
    },
    {
      "cell_type": "markdown",
      "source": [
        "1. **Iterable**:\n",
        "   An iterable is any object in Python that can be iterated over, which means you can loop through its elements one by one. Examples of built-in iterables in Python include lists, tuples, strings, dictionaries, and sets. An iterable must provide a method called `__iter__()` that returns an iterator.\n",
        "\n",
        "   ```python\n",
        "   my_list = [1, 2, 3]\n",
        "   my_iterable_string = \"Hello\"\n",
        "   ```\n"
      ],
      "metadata": {
        "id": "ZBlD3Lc1HOMX"
      }
    },
    {
      "cell_type": "code",
      "source": [
        "my_string = \"hello\"\n",
        "my_list = [1,2,3]\n",
        "my_tuple = (1,2,3)\n",
        "my_dictionary = {'a':1, 'b':2}\n",
        "my_set = {1,2,3}\n",
        "\n",
        "print(f\"Is my_string iterable?\", hasattr(my_string, '__iter__'))\n",
        "print(f\"Is my_list iterable?\", hasattr(my_list, '__iter__'))\n",
        "print(f\"Is my_tuple iterable?\", hasattr(my_tuple, '__iter__'))\n",
        "print(f\"Is my_dictionary iterable?\", hasattr(my_dictionary, '__iter__'))\n",
        "print(f\"Is my_set iterable?\", hasattr(my_set, '__iter__'))"
      ],
      "metadata": {
        "colab": {
          "base_uri": "https://localhost:8080/"
        },
        "id": "LbdJ7-lJH_IE",
        "outputId": "0b4934ab-9439-4eb8-ac3c-eca33fb31d31"
      },
      "execution_count": 1,
      "outputs": [
        {
          "output_type": "stream",
          "name": "stdout",
          "text": [
            "Is my_string iterable? True\n",
            "Is my_list iterable? True\n",
            "Is my_tuple iterable? True\n",
            "Is my_dictionary iterable? True\n",
            "Is my_set iterable? True\n"
          ]
        }
      ]
    },
    {
      "cell_type": "markdown",
      "source": [
        "## Iterator"
      ],
      "metadata": {
        "id": "yHvltVElHOK9"
      }
    },
    {
      "cell_type": "markdown",
      "source": [
        "2. **Iterator**:\n",
        "   An iterator is an object that implements two methods: `__iter__()` and `__next__()`. The `__iter__()` method returns the iterator object itself, and the `__next__()` method returns the next value from the iterable. When there are no more items to be returned, the `__next__()` method raises the `StopIteration` exception. Iterators keep track of their current state, allowing them to resume iteration where it left off.\n",
        "\n",
        "   ```python\n",
        "   my_iterator = iter(my_list)\n",
        "   ```"
      ],
      "metadata": {
        "id": "HHAAwkafHOIO"
      }
    },
    {
      "cell_type": "code",
      "source": [
        "print(f\"Is my_list iterator?\", hasattr(my_list, '__next__'))"
      ],
      "metadata": {
        "colab": {
          "base_uri": "https://localhost:8080/"
        },
        "id": "iSCf9cmpJB9C",
        "outputId": "7ecb8c85-9d31-4efa-a8d8-a1b9a5398b32"
      },
      "execution_count": 2,
      "outputs": [
        {
          "output_type": "stream",
          "name": "stdout",
          "text": [
            "Is my_list iterator? False\n"
          ]
        }
      ]
    },
    {
      "cell_type": "code",
      "source": [
        "hasattr(iter(my_list), '__next__')"
      ],
      "metadata": {
        "colab": {
          "base_uri": "https://localhost:8080/"
        },
        "id": "ov8QDCHnJB2h",
        "outputId": "7c47628a-b57e-44d6-c398-8c3ec86fd844"
      },
      "execution_count": 3,
      "outputs": [
        {
          "output_type": "execute_result",
          "data": {
            "text/plain": [
              "True"
            ]
          },
          "metadata": {},
          "execution_count": 3
        }
      ]
    },
    {
      "cell_type": "markdown",
      "source": [
        "## Iteration"
      ],
      "metadata": {
        "id": "_g1oa-raJXmY"
      }
    },
    {
      "cell_type": "markdown",
      "source": [
        "\n",
        "\n",
        "3. **Iteration**:\n",
        "   Iteration is the process of repeatedly executing a set of statements or operations for each element in an iterable. This is typically done using a loop, such as a `for` loop, which uses an iterator behind the scenes to traverse the iterable.\n",
        "\n",
        "   ```python\n",
        "   for item in my_iterable_string:\n",
        "       print(item)\n",
        "   ```\n"
      ],
      "metadata": {
        "id": "lzBbhxkRHODX"
      }
    },
    {
      "cell_type": "code",
      "execution_count": 4,
      "metadata": {
        "id": "039RIeLcGDTt",
        "colab": {
          "base_uri": "https://localhost:8080/"
        },
        "outputId": "4cf43c93-2042-4d9a-ed89-9d8df750c5cb"
      },
      "outputs": [
        {
          "output_type": "stream",
          "name": "stdout",
          "text": [
            "Is my_list iterable? True\n",
            "Is my_iterator an iterator? True\n",
            "1\n",
            "2\n",
            "3\n"
          ]
        }
      ],
      "source": [
        "my_list = [1, 2, 3]\n",
        "\n",
        "# Iterable\n",
        "print(\"Is my_list iterable?\", hasattr(my_list, '__iter__'))\n",
        "\n",
        "# Iterator\n",
        "my_iterator = iter(my_list)\n",
        "print(\"Is my_iterator an iterator?\", hasattr(my_iterator, '__next__'))\n",
        "\n",
        "# Iteration using a loop\n",
        "for item in my_list:\n",
        "    print(item)"
      ]
    },
    {
      "cell_type": "markdown",
      "source": [
        "\n",
        "In this example, `my_list` is an iterable, and `my_iterator` is an iterator created from the iterable. The `for` loop uses the iterator to perform the iteration. It's important to note that using the `for` loop abstracts away the iterator and the `__next__()` method, making iteration easier and more intuitive."
      ],
      "metadata": {
        "id": "P18bYF9-JjO8"
      }
    },
    {
      "cell_type": "markdown",
      "source": [
        "## Working of for loop"
      ],
      "metadata": {
        "id": "gNwVhasYKhVK"
      }
    },
    {
      "cell_type": "markdown",
      "source": [
        "In Python, the `for` loop is a fundamental construct used to iterate over sequences, collections, and other iterables. The `for` loop allows you to execute a block of code for each item in the iterable. Here's how the `for` loop works:\n",
        "\n",
        "1. **Obtain an Iterable**: The `for` loop starts by obtaining an iterable object. An iterable is any object that can be looped over, such as lists, tuples, strings, dictionaries, sets, and custom objects that implement the iterator protocol.\n",
        "\n",
        "2. **Create an Iterator**: The iterable's `__iter__()` method is called, which returns an iterator object. An iterator is responsible for keeping track of the current position during iteration and providing the next item using its `__next__()` method.\n",
        "\n",
        "3. **Iterate Over Items**: The `for` loop uses the iterator to retrieve items from the iterable one by one. It calls the iterator's `__next__()` method at each iteration, obtaining the next item.\n",
        "\n",
        "4. **Execution of Loop Body**: For each item obtained from the iterator, the code inside the loop body is executed. You can perform any desired operations on the current item within the loop.\n",
        "\n",
        "5. **End of Iteration**: The iteration continues until there are no more items left in the iterable. When the iterator's `__next__()` method raises a `StopIteration` exception, the loop terminates.\n",
        "\n",
        "Here's a simple example of a `for` loop in action:\n",
        "\n",
        "```python\n",
        "my_list = [1, 2, 3, 4, 5]\n",
        "\n",
        "for item in my_list:\n",
        "    print(item)\n",
        "```\n",
        "\n",
        "In this example, the `for` loop iterates over each item in the `my_list` iterable. At each iteration, the current item is assigned to the variable `item`, and the code inside the loop body (in this case, `print(item)`) is executed.\n",
        "\n",
        "It's important to note that the `for` loop abstracts away the process of creating an iterator and fetching items. It provides a clean and intuitive way to work with iterables, making the code more readable and less error-prone compared to manual iteration using index variables."
      ],
      "metadata": {
        "id": "wXat9zrRKrEC"
      }
    },
    {
      "cell_type": "markdown",
      "source": [
        "## Custom for loop"
      ],
      "metadata": {
        "id": "5scySd7GLnNS"
      }
    },
    {
      "cell_type": "code",
      "source": [
        "def custom_for_loop(iterable):\n",
        "    iterator = iter(iterable)\n",
        "    while True:\n",
        "        try:\n",
        "            item = next(iterator)\n",
        "            print(item)\n",
        "        except StopIteration:\n",
        "            break\n",
        "\n",
        "numbers = [1, 2, 3, 4, 5]\n",
        "\n",
        "custom_for_loop(numbers)"
      ],
      "metadata": {
        "colab": {
          "base_uri": "https://localhost:8080/"
        },
        "id": "70hJTJN7Kh4C",
        "outputId": "4e443116-4a1c-4b85-fe3c-fd472414ca4a"
      },
      "execution_count": 5,
      "outputs": [
        {
          "output_type": "stream",
          "name": "stdout",
          "text": [
            "1\n",
            "2\n",
            "3\n",
            "4\n",
            "5\n"
          ]
        }
      ]
    },
    {
      "cell_type": "code",
      "source": [
        "x = [1,2,3,4,5]\n",
        "y = iter(x)\n",
        "z = iter(y)\n",
        "\n",
        "print(next(y))\n",
        "print(next(z))\n",
        "print(next(y))"
      ],
      "metadata": {
        "colab": {
          "base_uri": "https://localhost:8080/"
        },
        "id": "kNv8tLQ9M0FG",
        "outputId": "97285e84-cf96-43a6-b442-69a0a1412cd2"
      },
      "execution_count": 6,
      "outputs": [
        {
          "output_type": "stream",
          "name": "stdout",
          "text": [
            "1\n",
            "2\n",
            "3\n"
          ]
        }
      ]
    },
    {
      "cell_type": "code",
      "source": [
        "id(y),id(z)"
      ],
      "metadata": {
        "colab": {
          "base_uri": "https://localhost:8080/"
        },
        "id": "7Wbh8HBYM0B5",
        "outputId": "93a8964c-c997-45ff-c903-9e67149271dc"
      },
      "execution_count": 7,
      "outputs": [
        {
          "output_type": "execute_result",
          "data": {
            "text/plain": [
              "(135404219008864, 135404219008864)"
            ]
          },
          "metadata": {},
          "execution_count": 7
        }
      ]
    },
    {
      "cell_type": "markdown",
      "source": [
        "## Custom range function"
      ],
      "metadata": {
        "id": "i3s-AXlvNcoy"
      }
    },
    {
      "cell_type": "code",
      "source": [
        "class MyRange:\n",
        "    def __init__(self, start, stop=None, step=1):\n",
        "        if stop is None:\n",
        "            self.start = 0\n",
        "            self.stop = start\n",
        "        else:\n",
        "            self.start = start\n",
        "            self.stop = stop\n",
        "        self.step = step\n",
        "\n",
        "    def __iter__(self):\n",
        "        return self\n",
        "\n",
        "    def __next__(self):\n",
        "        if (self.step > 0 and self.start >= self.stop) or (self.step < 0 and self.start <= self.stop):\n",
        "            raise StopIteration\n",
        "        current = self.start\n",
        "        self.start += self.step\n",
        "        return current"
      ],
      "metadata": {
        "id": "2obSU9lFM9rb"
      },
      "execution_count": 8,
      "outputs": []
    },
    {
      "cell_type": "code",
      "source": [
        "for num in  MyRange(3, 0, -1):\n",
        "    print(num)"
      ],
      "metadata": {
        "colab": {
          "base_uri": "https://localhost:8080/"
        },
        "id": "lHlws-1KNCmY",
        "outputId": "773e2050-d859-49a4-a0c9-9df365043399"
      },
      "execution_count": 9,
      "outputs": [
        {
          "output_type": "stream",
          "name": "stdout",
          "text": [
            "3\n",
            "2\n",
            "1\n"
          ]
        }
      ]
    }
  ]
}