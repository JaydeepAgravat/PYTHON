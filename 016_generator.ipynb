{
  "nbformat": 4,
  "nbformat_minor": 0,
  "metadata": {
    "colab": {
      "provenance": [],
      "toc_visible": true
    },
    "kernelspec": {
      "name": "python3",
      "display_name": "Python 3"
    },
    "language_info": {
      "name": "python"
    }
  },
  "cells": [
    {
      "cell_type": "markdown",
      "source": [
        "# Generator"
      ],
      "metadata": {
        "id": "tIEdXmaIPdif"
      }
    },
    {
      "cell_type": "markdown",
      "source": [
        "- Generators provide an efficient way to create iterators in Python.\n",
        "- Unlike lists, they generate values on-the-fly, saving memory."
      ],
      "metadata": {
        "id": "KprB9sYmP0pF"
      }
    },
    {
      "cell_type": "code",
      "execution_count": 1,
      "metadata": {
        "colab": {
          "base_uri": "https://localhost:8080/"
        },
        "id": "0AYNhaw_PSs6",
        "outputId": "ce782ad7-d7b5-4f5b-8c87-5f0027372050"
      },
      "outputs": [
        {
          "output_type": "stream",
          "name": "stdout",
          "text": [
            "1\n",
            "2\n",
            "3\n"
          ]
        }
      ],
      "source": [
        "def simple_generator():\n",
        "    yield 1\n",
        "    yield 2\n",
        "    yield 3\n",
        "\n",
        "gen = simple_generator()\n",
        "for num in gen:\n",
        "    print(num)"
      ]
    },
    {
      "cell_type": "markdown",
      "source": [
        "##  Generator Functions"
      ],
      "metadata": {
        "id": "JPKkkH9PP_vt"
      }
    },
    {
      "cell_type": "markdown",
      "source": [
        "- Generator functions use yield to produce values one at a time."
      ],
      "metadata": {
        "id": "ttnOSme5QCsZ"
      }
    },
    {
      "cell_type": "code",
      "source": [
        "def countdown(n):\n",
        "    while n > 0:\n",
        "        yield n\n",
        "        n -= 1\n",
        "\n",
        "for num in countdown(5):\n",
        "    print(num)"
      ],
      "metadata": {
        "colab": {
          "base_uri": "https://localhost:8080/"
        },
        "id": "5v1kET--P7yG",
        "outputId": "02326b20-5dd2-4bdd-f955-3009f773d555"
      },
      "execution_count": 2,
      "outputs": [
        {
          "output_type": "stream",
          "name": "stdout",
          "text": [
            "5\n",
            "4\n",
            "3\n",
            "2\n",
            "1\n"
          ]
        }
      ]
    },
    {
      "cell_type": "markdown",
      "source": [
        "## Generator Expressions"
      ],
      "metadata": {
        "id": "ZQgAPBKzQKT7"
      }
    },
    {
      "cell_type": "markdown",
      "source": [
        "- Generator expressions are similar to list comprehensions but use parentheses and generate values lazily."
      ],
      "metadata": {
        "id": "VM1bCylCQMTY"
      }
    },
    {
      "cell_type": "code",
      "source": [
        "squares = (x * x for x in range(1, 6))\n",
        "\n",
        "for square in squares:\n",
        "    print(square)"
      ],
      "metadata": {
        "colab": {
          "base_uri": "https://localhost:8080/"
        },
        "id": "dT7oAVzxQHd_",
        "outputId": "c4fcbaf5-27cb-4551-ae01-8a9f11ed9bc4"
      },
      "execution_count": 3,
      "outputs": [
        {
          "output_type": "stream",
          "name": "stdout",
          "text": [
            "1\n",
            "4\n",
            "9\n",
            "16\n",
            "25\n"
          ]
        }
      ]
    },
    {
      "cell_type": "markdown",
      "source": [
        "## Lazy Evaluation"
      ],
      "metadata": {
        "id": "5i5Wv6hZQWl7"
      }
    },
    {
      "cell_type": "markdown",
      "source": [
        "- Generators use lazy evaluation, generating values only as needed."
      ],
      "metadata": {
        "id": "nYOHsPpMQZbZ"
      }
    },
    {
      "cell_type": "code",
      "source": [
        "def fibonacci():\n",
        "    a, b = 0, 1\n",
        "    while True:\n",
        "        yield a\n",
        "        a, b = b, a + b\n",
        "\n",
        "fib_gen = fibonacci()\n",
        "for _ in range(4):\n",
        "    print(next(fib_gen))"
      ],
      "metadata": {
        "colab": {
          "base_uri": "https://localhost:8080/"
        },
        "id": "3GFtDYpMQRXb",
        "outputId": "ea528202-4d43-49e2-d960-bfd87cbe5aa0"
      },
      "execution_count": 4,
      "outputs": [
        {
          "output_type": "stream",
          "name": "stdout",
          "text": [
            "0\n",
            "1\n",
            "1\n",
            "2\n"
          ]
        }
      ]
    },
    {
      "cell_type": "markdown",
      "source": [
        "## Yield and Yield From\n"
      ],
      "metadata": {
        "id": "5mUHRsoeQplO"
      }
    },
    {
      "cell_type": "markdown",
      "source": [
        "- Using yield to produce values and yield from for subgenerators.\n",
        "\n"
      ],
      "metadata": {
        "id": "T0OX5knIQrVt"
      }
    },
    {
      "cell_type": "code",
      "source": [
        "def nested_generator():\n",
        "    yield 1\n",
        "    yield 2\n",
        "\n",
        "def main_generator():\n",
        "    yield from nested_generator()\n",
        "    yield 3\n",
        "\n",
        "gen = main_generator()\n",
        "for num in gen:\n",
        "    print(num)"
      ],
      "metadata": {
        "colab": {
          "base_uri": "https://localhost:8080/"
        },
        "id": "eU89nlaWQa7g",
        "outputId": "98f1f054-2348-45da-aa28-8d4d7fdd20c8"
      },
      "execution_count": 5,
      "outputs": [
        {
          "output_type": "stream",
          "name": "stdout",
          "text": [
            "1\n",
            "2\n",
            "3\n"
          ]
        }
      ]
    },
    {
      "cell_type": "code",
      "source": [
        "def combinations_generator(set1, set2):\n",
        "    for item1 in set1:\n",
        "        for item2 in set2:\n",
        "            yield (item1, item2)\n",
        "\n",
        "set1 = ['a', 'b', 'c']\n",
        "set2 = [1, 2, 3]\n",
        "\n",
        "# Using the generator with yield\n",
        "for combo in combinations_generator(set1, set2):\n",
        "    print(combo)"
      ],
      "metadata": {
        "colab": {
          "base_uri": "https://localhost:8080/"
        },
        "id": "Squf0-SqR505",
        "outputId": "8a71a8b9-27f5-4334-ca84-4a3e4a93b6e6"
      },
      "execution_count": 6,
      "outputs": [
        {
          "output_type": "stream",
          "name": "stdout",
          "text": [
            "('a', 1)\n",
            "('a', 2)\n",
            "('a', 3)\n",
            "('b', 1)\n",
            "('b', 2)\n",
            "('b', 3)\n",
            "('c', 1)\n",
            "('c', 2)\n",
            "('c', 3)\n"
          ]
        }
      ]
    },
    {
      "cell_type": "code",
      "source": [
        "def combinations_generator_with_yield_from(set1, set2):\n",
        "    for item1 in set1:\n",
        "        yield from ((item1, item2) for item2 in set2)\n",
        "\n",
        "set1 = ['a', 'b', 'c']\n",
        "set2 = [1, 2, 3]\n",
        "\n",
        "# Using the generator with yield from\n",
        "for combo in combinations_generator_with_yield_from(set1, set2):\n",
        "    print(combo)"
      ],
      "metadata": {
        "colab": {
          "base_uri": "https://localhost:8080/"
        },
        "id": "JHnYCPjhR5rM",
        "outputId": "c800bcec-d2a2-4d73-a764-32e0b785d3e4"
      },
      "execution_count": 7,
      "outputs": [
        {
          "output_type": "stream",
          "name": "stdout",
          "text": [
            "('a', 1)\n",
            "('a', 2)\n",
            "('a', 3)\n",
            "('b', 1)\n",
            "('b', 2)\n",
            "('b', 3)\n",
            "('c', 1)\n",
            "('c', 2)\n",
            "('c', 3)\n"
          ]
        }
      ]
    },
    {
      "cell_type": "markdown",
      "source": [
        "## Custome range function with generator"
      ],
      "metadata": {
        "id": "LeJ3IL7qShMw"
      }
    },
    {
      "cell_type": "code",
      "source": [
        "def custom_range(start, stop=None, step=1):\n",
        "    if stop is None:\n",
        "        start, stop = 0, start\n",
        "    current = start\n",
        "    while (step > 0 and current < stop) or (step < 0 and current > stop):\n",
        "        yield current\n",
        "        current += step\n",
        "\n",
        "for num in custom_range(10, 0, -2):\n",
        "    print(num)"
      ],
      "metadata": {
        "colab": {
          "base_uri": "https://localhost:8080/"
        },
        "id": "0dWnJv6dR8jS",
        "outputId": "1fa6c845-75fc-4f96-e039-fd11c24173e9"
      },
      "execution_count": 8,
      "outputs": [
        {
          "output_type": "stream",
          "name": "stdout",
          "text": [
            "10\n",
            "8\n",
            "6\n",
            "4\n",
            "2\n"
          ]
        }
      ]
    },
    {
      "cell_type": "markdown",
      "source": [
        "## Benefits of using a Generator"
      ],
      "metadata": {
        "id": "lGrWfHWfS6Jy"
      }
    },
    {
      "cell_type": "markdown",
      "source": [
        "Certainly, here are the top four reasons for using generators in your Python code:\n",
        "\n",
        "1. **Memory Efficiency**: Generators produce values on-the-fly, one at a time, without loading all values into memory simultaneously. This is especially valuable when dealing with large datasets, as it reduces memory consumption.\n",
        "\n",
        "2. **Lazy Evaluation**: Generators use lazy evaluation, computing values only when needed. This can lead to better performance by avoiding unnecessary computations, which is particularly beneficial for time-consuming operations.\n",
        "\n",
        "3. **Simplicity and Readability**: Generators allow you to express complex logic incrementally, making your code more readable and maintainable. They help avoid nesting and promote a step-by-step approach.\n",
        "\n",
        "4. **Efficient Iteration**: Generators are well-suited for efficiently iterating over large or infinite sequences. They process each value as it's generated, enabling you to work with data that doesn't fit entirely in memory.\n",
        "\n",
        "These reasons highlight the core advantages of using generators, including reduced memory usage, improved performance, cleaner code, and effective handling of various types of data and tasks."
      ],
      "metadata": {
        "id": "iCF8ottCUYVZ"
      }
    }
  ]
}